{
 "cells": [
  {
   "cell_type": "code",
   "execution_count": 1,
   "metadata": {},
   "outputs": [
    {
     "data": {
      "text/plain": [
       "<module 'mercurial' from 'd:\\\\work\\\\personel\\\\mercurial - backup\\\\mercurial.py'>"
      ]
     },
     "execution_count": 1,
     "metadata": {},
     "output_type": "execute_result"
    }
   ],
   "source": [
    "from flask import Flask, jsonify, request, url_for, render_template\n",
    "from flask_cors import CORS\n",
    "import mercurial\n",
    "import importlib\n",
    "importlib.reload(mercurial)"
   ]
  },
  {
   "cell_type": "code",
   "execution_count": 2,
   "metadata": {},
   "outputs": [
    {
     "name": "stdout",
     "output_type": "stream",
     "text": [
      " * Serving Flask app '__main__'\n",
      " * Debug mode: off\n"
     ]
    },
    {
     "name": "stderr",
     "output_type": "stream",
     "text": [
      "WARNING: This is a development server. Do not use it in a production deployment. Use a production WSGI server instead.\n",
      " * Running on http://127.0.0.1:5000\n",
      "Press CTRL+C to quit\n",
      "127.0.0.1 - - [06/May/2023 14:48:28] \"GET / HTTP/1.1\" 200 -\n",
      "127.0.0.1 - - [06/May/2023 14:48:28] \"GET /static/style.css HTTP/1.1\" 304 -\n",
      "127.0.0.1 - - [06/May/2023 14:48:28] \"GET /static/Puppertino-master/dist/css/newfull.css HTTP/1.1\" 304 -\n",
      "127.0.0.1 - - [06/May/2023 14:48:28] \"GET /static/swiped-events-master/src/swiped-events.js HTTP/1.1\" 304 -\n",
      "127.0.0.1 - - [06/May/2023 14:48:28] \"GET /static/scroll-lock-master/dist/scroll-lock.min.js HTTP/1.1\" 304 -\n",
      "127.0.0.1 - - [06/May/2023 14:48:28] \"GET /static/Puppertino-master/dist/css/layout.css HTTP/1.1\" 304 -\n",
      "127.0.0.1 - - [06/May/2023 14:48:28] \"GET /static/Puppertino-master/dist/css/buttons.css HTTP/1.1\" 304 -\n",
      "127.0.0.1 - - [06/May/2023 14:48:28] \"GET /static/Puppertino-master/dist/css/actions.css HTTP/1.1\" 304 -\n",
      "127.0.0.1 - - [06/May/2023 14:48:28] \"GET /static/Puppertino-master/dist/css/cards.css HTTP/1.1\" 304 -\n",
      "127.0.0.1 - - [06/May/2023 14:48:28] \"GET /static/Puppertino-master/dist/css/color_palette.css HTTP/1.1\" 304 -\n",
      "127.0.0.1 - - [06/May/2023 14:48:28] \"GET /static/Puppertino-master/dist/css/forms.css HTTP/1.1\" 304 -\n",
      "127.0.0.1 - - [06/May/2023 14:48:28] \"GET /static/Puppertino-master/dist/css/modals.css HTTP/1.1\" 304 -\n",
      "127.0.0.1 - - [06/May/2023 14:48:28] \"GET /static/Puppertino-master/dist/css/segmented-controls.css HTTP/1.1\" 304 -\n",
      "127.0.0.1 - - [06/May/2023 14:48:28] \"GET /static/Puppertino-master/dist/css/shadows.css HTTP/1.1\" 304 -\n",
      "127.0.0.1 - - [06/May/2023 14:48:28] \"GET /static/Puppertino-master/dist/css/dark_mode.css HTTP/1.1\" 304 -\n",
      "127.0.0.1 - - [06/May/2023 14:48:28] \"GET /static/Puppertino-master/dist/css/tabs.css HTTP/1.1\" 304 -\n",
      "127.0.0.1 - - [06/May/2023 14:48:28] \"GET /static/dynamic.js HTTP/1.1\" 304 -\n",
      "127.0.0.1 - - [06/May/2023 14:48:28] \"GET /static/image.png HTTP/1.1\" 304 -\n",
      "127.0.0.1 - - [06/May/2023 14:48:28] \"GET /static/logo.png HTTP/1.1\" 304 -\n",
      "127.0.0.1 - - [06/May/2023 14:48:28] \"GET /static/robotovariable.ttf HTTP/1.1\" 304 -\n",
      "127.0.0.1 - - [06/May/2023 14:48:28] \"GET /favicon.ico HTTP/1.1\" 404 -\n",
      "127.0.0.1 - - [06/May/2023 14:48:32] \"GET /static/style.css HTTP/1.1\" 304 -\n",
      "127.0.0.1 - - [06/May/2023 14:48:32] \"GET /static/Puppertino-master/dist/css/layout.css HTTP/1.1\" 304 -\n",
      "127.0.0.1 - - [06/May/2023 14:48:32] \"GET /static/Puppertino-master/dist/css/actions.css HTTP/1.1\" 304 -\n",
      "127.0.0.1 - - [06/May/2023 14:48:32] \"GET /static/Puppertino-master/dist/css/buttons.css HTTP/1.1\" 304 -\n",
      "127.0.0.1 - - [06/May/2023 14:48:32] \"GET /static/Puppertino-master/dist/css/cards.css HTTP/1.1\" 304 -\n",
      "127.0.0.1 - - [06/May/2023 14:48:32] \"GET /static/Puppertino-master/dist/css/color_palette.css HTTP/1.1\" 304 -\n",
      "127.0.0.1 - - [06/May/2023 14:48:32] \"GET /static/Puppertino-master/dist/css/forms.css HTTP/1.1\" 304 -\n",
      "127.0.0.1 - - [06/May/2023 14:48:32] \"GET /static/Puppertino-master/dist/css/modals.css HTTP/1.1\" 304 -\n",
      "127.0.0.1 - - [06/May/2023 14:48:32] \"GET /static/Puppertino-master/dist/css/segmented-controls.css HTTP/1.1\" 304 -\n",
      "127.0.0.1 - - [06/May/2023 14:48:32] \"GET /static/Puppertino-master/dist/css/shadows.css HTTP/1.1\" 304 -\n",
      "127.0.0.1 - - [06/May/2023 14:48:32] \"GET /static/Puppertino-master/dist/css/tabs.css HTTP/1.1\" 304 -\n",
      "127.0.0.1 - - [06/May/2023 14:48:32] \"GET /static/Puppertino-master/dist/css/dark_mode.css HTTP/1.1\" 304 -\n",
      "127.0.0.1 - - [06/May/2023 14:48:32] \"GET /static/Puppertino-master/dist/css/newfull.css HTTP/1.1\" 304 -\n",
      "127.0.0.1 - - [06/May/2023 14:48:37] \"POST /data HTTP/1.1\" 200 -\n"
     ]
    },
    {
     "name": "stdout",
     "output_type": "stream",
     "text": [
      "[]\n"
     ]
    },
    {
     "name": "stderr",
     "output_type": "stream",
     "text": [
      "127.0.0.1 - - [06/May/2023 14:48:37] \"GET /data HTTP/1.1\" 200 -\n",
      "127.0.0.1 - - [06/May/2023 14:48:39] \"GET /static/image.png HTTP/1.1\" 304 -\n",
      "127.0.0.1 - - [06/May/2023 14:48:50] \"POST /data HTTP/1.1\" 200 -\n"
     ]
    },
    {
     "name": "stdout",
     "output_type": "stream",
     "text": [
      "[]\n"
     ]
    },
    {
     "name": "stderr",
     "output_type": "stream",
     "text": [
      "127.0.0.1 - - [06/May/2023 14:48:51] \"GET /data HTTP/1.1\" 200 -\n",
      "127.0.0.1 - - [06/May/2023 14:49:01] \"POST /data HTTP/1.1\" 200 -\n"
     ]
    },
    {
     "name": "stdout",
     "output_type": "stream",
     "text": [
      "['Sanguine Paradise']\n"
     ]
    },
    {
     "name": "stderr",
     "output_type": "stream",
     "text": [
      "127.0.0.1 - - [06/May/2023 14:49:01] \"GET /data HTTP/1.1\" 200 -\n",
      "127.0.0.1 - - [06/May/2023 14:49:02] \"GET /static/image.png HTTP/1.1\" 304 -\n",
      "127.0.0.1 - - [06/May/2023 14:49:05] \"POST /data HTTP/1.1\" 200 -\n"
     ]
    },
    {
     "name": "stdout",
     "output_type": "stream",
     "text": [
      "['Sanguine Paradise']\n"
     ]
    },
    {
     "name": "stderr",
     "output_type": "stream",
     "text": [
      "127.0.0.1 - - [06/May/2023 14:49:05] \"GET /data HTTP/1.1\" 200 -\n",
      "127.0.0.1 - - [06/May/2023 14:49:09] \"POST /data HTTP/1.1\" 200 -\n"
     ]
    },
    {
     "name": "stdout",
     "output_type": "stream",
     "text": [
      "['Sanguine Paradise', 'Lifetime']\n"
     ]
    },
    {
     "name": "stderr",
     "output_type": "stream",
     "text": [
      "127.0.0.1 - - [06/May/2023 14:49:10] \"GET /data HTTP/1.1\" 200 -\n",
      "127.0.0.1 - - [06/May/2023 14:49:13] \"POST /data HTTP/1.1\" 200 -\n"
     ]
    },
    {
     "name": "stdout",
     "output_type": "stream",
     "text": [
      "['Sanguine Paradise', 'Lifetime', 'Like I Want You']\n"
     ]
    },
    {
     "name": "stderr",
     "output_type": "stream",
     "text": [
      "127.0.0.1 - - [06/May/2023 14:49:14] \"GET /data HTTP/1.1\" 200 -\n",
      "127.0.0.1 - - [06/May/2023 14:49:19] \"POST /data HTTP/1.1\" 200 -\n"
     ]
    },
    {
     "name": "stdout",
     "output_type": "stream",
     "text": [
      "['Sanguine Paradise', 'Lifetime', 'Like I Want You']\n"
     ]
    },
    {
     "name": "stderr",
     "output_type": "stream",
     "text": [
      "127.0.0.1 - - [06/May/2023 14:49:20] \"GET /data HTTP/1.1\" 200 -\n",
      "127.0.0.1 - - [06/May/2023 14:49:24] \"POST /data HTTP/1.1\" 200 -\n"
     ]
    },
    {
     "name": "stdout",
     "output_type": "stream",
     "text": [
      "['Sanguine Paradise', 'Lifetime', 'Like I Want You']\n"
     ]
    },
    {
     "name": "stderr",
     "output_type": "stream",
     "text": [
      "127.0.0.1 - - [06/May/2023 14:49:25] \"GET /data HTTP/1.1\" 200 -\n",
      "127.0.0.1 - - [06/May/2023 14:49:29] \"POST /data HTTP/1.1\" 200 -\n"
     ]
    },
    {
     "name": "stdout",
     "output_type": "stream",
     "text": [
      "['Sanguine Paradise', 'Lifetime', 'Like I Want You']\n"
     ]
    },
    {
     "name": "stderr",
     "output_type": "stream",
     "text": [
      "127.0.0.1 - - [06/May/2023 14:49:30] \"GET /data HTTP/1.1\" 200 -\n",
      "127.0.0.1 - - [06/May/2023 14:49:34] \"POST /data HTTP/1.1\" 200 -\n"
     ]
    },
    {
     "name": "stdout",
     "output_type": "stream",
     "text": [
      "['Sanguine Paradise', 'Lifetime', 'Like I Want You']\n"
     ]
    },
    {
     "name": "stderr",
     "output_type": "stream",
     "text": [
      "127.0.0.1 - - [06/May/2023 14:49:34] \"GET /data HTTP/1.1\" 200 -\n",
      "127.0.0.1 - - [06/May/2023 14:49:38] \"POST /data HTTP/1.1\" 200 -\n"
     ]
    },
    {
     "name": "stdout",
     "output_type": "stream",
     "text": [
      "['Sanguine Paradise', 'Lifetime', 'Like I Want You']\n"
     ]
    },
    {
     "name": "stderr",
     "output_type": "stream",
     "text": [
      "127.0.0.1 - - [06/May/2023 14:49:39] \"GET /data HTTP/1.1\" 200 -\n",
      "127.0.0.1 - - [06/May/2023 14:49:59] \"POST /data HTTP/1.1\" 200 -\n"
     ]
    },
    {
     "name": "stdout",
     "output_type": "stream",
     "text": [
      "['Sanguine Paradise', 'Lifetime', 'Like I Want You', 'I Fall Apart']\n"
     ]
    },
    {
     "name": "stderr",
     "output_type": "stream",
     "text": [
      "127.0.0.1 - - [06/May/2023 14:49:59] \"GET /data HTTP/1.1\" 200 -\n",
      "127.0.0.1 - - [06/May/2023 14:50:03] \"POST /data HTTP/1.1\" 200 -\n"
     ]
    },
    {
     "name": "stdout",
     "output_type": "stream",
     "text": [
      "['Sanguine Paradise', 'Lifetime', 'Like I Want You', 'I Fall Apart', 'Borderline']\n"
     ]
    },
    {
     "name": "stderr",
     "output_type": "stream",
     "text": [
      "127.0.0.1 - - [06/May/2023 14:50:03] \"GET /data HTTP/1.1\" 200 -\n",
      "127.0.0.1 - - [06/May/2023 14:50:07] \"GET /recochannel HTTP/1.1\" 200 -\n"
     ]
    }
   ],
   "source": [
    "app = Flask(__name__) \n",
    "CORS(app) \n",
    "\n",
    "@app.route(\"/\")\n",
    "def index():\n",
    "    return render_template(\"index.html\")\n",
    "\n",
    "\n",
    "likedlist = []\n",
    "\n",
    "def recopass(listx):\n",
    "    if(len(listx) > 3):\n",
    "        listx = listx[-3::]\n",
    "    else:\n",
    "        listx = listx\n",
    "    \n",
    "    return listx\n",
    "\n",
    "\n",
    "@app.route(\"/data\", methods=[\"GET\", \"POST\"]) \n",
    "def dataex():\n",
    "    \n",
    "    if request.method == \"POST\": \n",
    "        data = request.get_json()\n",
    "        if(data[\"reco\"] == \"1\"):\n",
    "            pass\n",
    "        else:\n",
    "            if(len(likedlist) == 0 or likedlist[0] == \"\"):\n",
    "                pass\n",
    "            else:\n",
    "                likedlist.pop()\n",
    "        #print(data, flush = True)\n",
    "        return {\"message\": \"Success!\"}\n",
    "    \n",
    "    elif request.method == \"GET\":\n",
    "        cur_track = mercurial.get_track()\n",
    "        print(likedlist, flush = True)\n",
    "        likedlist.append(cur_track[\"track_name\"])\n",
    "        return jsonify(cur_track)\n",
    "\n",
    "@app.route(\"/recochannel\", methods=[\"GET\"]) \n",
    "\n",
    "def recochannel(): \n",
    "    if request.method == \"GET\": \n",
    "        return jsonify(mercurial.recommend(likedlist))\n",
    "\n",
    "    \n",
    "if __name__ == '__main__':\n",
    "    app.run()"
   ]
  }
 ],
 "metadata": {
  "kernelspec": {
   "display_name": "Python 3",
   "language": "python",
   "name": "python3"
  },
  "language_info": {
   "codemirror_mode": {
    "name": "ipython",
    "version": 3
   },
   "file_extension": ".py",
   "mimetype": "text/x-python",
   "name": "python",
   "nbconvert_exporter": "python",
   "pygments_lexer": "ipython3",
   "version": "3.11.0"
  },
  "orig_nbformat": 4
 },
 "nbformat": 4,
 "nbformat_minor": 2
}
